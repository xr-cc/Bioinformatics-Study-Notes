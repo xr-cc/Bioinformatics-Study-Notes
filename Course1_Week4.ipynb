{
  "nbformat": 4,
  "nbformat_minor": 0,
  "metadata": {
    "colab": {
      "name": "Course1_Week4.ipynb",
      "provenance": [],
      "authorship_tag": "ABX9TyNICqv1b5MwEFtWOgds1IU3",
      "include_colab_link": true
    },
    "kernelspec": {
      "name": "python3",
      "display_name": "Python 3"
    }
  },
  "cells": [
    {
      "cell_type": "markdown",
      "metadata": {
        "id": "view-in-github",
        "colab_type": "text"
      },
      "source": [
        "<a href=\"https://colab.research.google.com/github/xr-cc/Bioinformatics-Study-Notes/blob/master/Course1_Week4.ipynb\" target=\"_parent\"><img src=\"https://colab.research.google.com/assets/colab-badge.svg\" alt=\"Open In Colab\"/></a>"
      ]
    },
    {
      "cell_type": "code",
      "metadata": {
        "id": "B2RZXO1opfjD",
        "colab_type": "code",
        "colab": {
          "resources": {
            "http://localhost:8080/nbextensions/google.colab/files.js": {
              "data": "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",
              "ok": true,
              "headers": [
                [
                  "content-type",
                  "application/javascript"
                ]
              ],
              "status": 200,
              "status_text": ""
            }
          },
          "base_uri": "https://localhost:8080/",
          "height": 72
        },
        "outputId": "6fe2a89f-4db5-4197-9d19-93fdccd4ca06"
      },
      "source": [
        "from google.colab import files\n",
        "uploaded = files.upload()"
      ],
      "execution_count": 68,
      "outputs": [
        {
          "output_type": "display_data",
          "data": {
            "text/html": [
              "\n",
              "     <input type=\"file\" id=\"files-fd6d3f02-be96-4198-b849-d7d9bbe7b1e4\" name=\"files[]\" multiple disabled\n",
              "        style=\"border:none\" />\n",
              "     <output id=\"result-fd6d3f02-be96-4198-b849-d7d9bbe7b1e4\">\n",
              "      Upload widget is only available when the cell has been executed in the\n",
              "      current browser session. Please rerun this cell to enable.\n",
              "      </output>\n",
              "      <script src=\"/nbextensions/google.colab/files.js\"></script> "
            ],
            "text/plain": [
              "<IPython.core.display.HTML object>"
            ]
          },
          "metadata": {
            "tags": []
          }
        },
        {
          "output_type": "stream",
          "text": [
            "Saving dataset_163_4 (3).txt to dataset_163_4 (3).txt\n"
          ],
          "name": "stdout"
        }
      ]
    },
    {
      "cell_type": "markdown",
      "metadata": {
        "id": "yP_dhhtSqv0c",
        "colab_type": "text"
      },
      "source": [
        "Randomized Motif Search"
      ]
    },
    {
      "cell_type": "code",
      "metadata": {
        "id": "ZI3Hvt5ZsJhu",
        "colab_type": "code",
        "colab": {}
      },
      "source": [
        "from random import randrange\n",
        "\n",
        "def RandomizedMotifSearch(Dna, k, t):\n",
        "    BM_best = None\n",
        "    BM_best_score = k*t\n",
        "    for iter in range(1000):\n",
        "        BM, BM_score = OneRun(Dna, k, t)\n",
        "        if BM_score<BM_best_score:\n",
        "            BM_best_score = BM_score\n",
        "            BM_best = BM\n",
        "            # print(iter,BM_best_score,BM)\n",
        "    return BM_best\n",
        "\n",
        "def OneRun(Dna, k, t):\n",
        "    Motifs = list()\n",
        "    for string in Dna:\n",
        "        rdmIdx = randrange(len(string)-k+1)\n",
        "        Motifs.append(string[rdmIdx:(rdmIdx+k)])\n",
        "    BestMotifs = Motifs.copy()\n",
        "    while True:\n",
        "        Prof = PseudoProfile(Motifs)\n",
        "        Motifs = list()\n",
        "        for i in range(t):\n",
        "            Motifs.append(ProfileMostProbableKmer(Dna[i], k, Prof))\n",
        "        if Score(Motifs) < Score(BestMotifs):\n",
        "            BestMotifs = Motifs\n",
        "        else:\n",
        "            return BestMotifs, Score(BestMotifs)    \n",
        "\n",
        "def Score(Motifs):\n",
        "    nucs = ['A','C','G','T']\n",
        "    L = len(Motifs[0])\n",
        "    countMotifs = {k:[0]*L for k in nucs}\n",
        "    for motif in Motifs:\n",
        "        for i,m in enumerate(motif):\n",
        "            a,b = m,i\n",
        "            countMotifs[a][b] += 1\n",
        "    countMotifs = [countMotifs[a] for a in nucs]        \n",
        "    countMotifs_trans = list(map(list, zip(*countMotifs)))\n",
        "    scr = sum([(sum(a)-max(a)) for a in countMotifs_trans]) #sum(a)-max(a)\n",
        "    return scr\n",
        "\n",
        "def ProfileMostProbableKmer(text, k, profile):\n",
        "    nucs = ['A','C','G','T']\n",
        "    profile = [profile[a] for a in nucs]\n",
        "    \n",
        "    nuc2num = {k:v for v,k in enumerate(nucs)}\n",
        "    maxProb = 0\n",
        "    mostProbKmer = None\n",
        "    for i in range(len(text)-k+1):\n",
        "        kmer = text[i:(i+k)]\n",
        "        prob = 1\n",
        "        for j in range(k):\n",
        "            prob *= profile[nuc2num[kmer[j]]][j]\n",
        "        if prob>maxProb:\n",
        "            maxProb = prob\n",
        "            mostProbKmer = kmer\n",
        "    return mostProbKmer\n",
        "\n",
        "\n",
        "def PseudoProfile(DNAs):\n",
        "\n",
        "    N = len(DNAs)\n",
        "    L = len(DNAs[0])\n",
        "    nucs = ['A','C','G','T']\n",
        "    nuc2idx = {k:v for v,k in enumerate(nucs)}\n",
        "    prof = [[1]*L for i in range(4)]\n",
        "\n",
        "\n",
        "    for i,dna in enumerate(DNAs):\n",
        "        for j,d in enumerate(dna):\n",
        "            prof[nuc2idx[dna[j]]][j] += 1\n",
        "\n",
        "    sums = [0]*L\n",
        "    prof_trans = list(map(list, zip(*prof)))\n",
        "    for j in range(L):\n",
        "        sums[j] = sum(prof_trans[j])\n",
        "        for i in range(4):\n",
        "            prof[i][j] /= sums[j]\n",
        "\n",
        "    prof = {nucs[i]:prof[i] for i in range(4)}\n",
        "    return prof"
      ],
      "execution_count": 28,
      "outputs": []
    },
    {
      "cell_type": "code",
      "metadata": {
        "id": "9__K4M7Otaih",
        "colab_type": "code",
        "colab": {}
      },
      "source": [
        "k = 8 \n",
        "t = 5\n",
        "Dna = ['CGCCCCTCTCGGGGGTGTTCAGTAAACGGCCA','GGGCGAGGTATGTGTAAGTGCCAAGGTGCCAG',\n",
        "       'TAGTACCGAGACCGAAAGAAGTATACAGGCGT','TAGATCAAGTTTCAGGTGCACGTCGGTGAACC',\n",
        "       'AATCCACCAGCTCCACGTGCAATGTTGGCCTA']\n"
      ],
      "execution_count": null,
      "outputs": []
    },
    {
      "cell_type": "code",
      "metadata": {
        "id": "Ju_UBgCIqwuO",
        "colab_type": "code",
        "colab": {
          "base_uri": "https://localhost:8080/",
          "height": 85
        },
        "outputId": "46a110de-8436-4d14-949d-29c6d49bbfe4"
      },
      "source": [
        "RandomizedMotifSearch(Dna, k, t)"
      ],
      "execution_count": 23,
      "outputs": [
        {
          "output_type": "stream",
          "text": [
            "0 11 ['GTAAACGG', 'GTATGTGT', 'GTATACAG', 'GTGCACGT', 'CTCCACGT']\n",
            "5 10 ['CTCGGGGG', 'CCAAGGTG', 'TACAGGCG', 'TTCAGGTG', 'TCCACGTG']\n",
            "41 9 ['TCTCGGGG', 'CCAAGGTG', 'TACAGGCG', 'TTCAGGTG', 'TCCACGTG']\n"
          ],
          "name": "stdout"
        },
        {
          "output_type": "execute_result",
          "data": {
            "text/plain": [
              "['TCTCGGGG', 'CCAAGGTG', 'TACAGGCG', 'TTCAGGTG', 'TCCACGTG']"
            ]
          },
          "metadata": {
            "tags": []
          },
          "execution_count": 23
        }
      ]
    },
    {
      "cell_type": "code",
      "metadata": {
        "id": "8DOiKSnOvlHw",
        "colab_type": "code",
        "colab": {}
      },
      "source": [
        "# read from input(), taken from discussions\n",
        "if __name__ == \"__main__\":\n",
        "    k,t = [int(a) for a in input().strip().split(\" \")]\n",
        "    Dna = []\n",
        "    for _ in range(t):\n",
        "        Dna.append(input())\n",
        "       \n",
        "    ans = RandomizedMotifSearch(Dna,k,t)\n",
        "    for a in ans:\n",
        "        print(a)"
      ],
      "execution_count": null,
      "outputs": []
    },
    {
      "cell_type": "code",
      "metadata": {
        "id": "OAilTg8XwlSO",
        "colab_type": "code",
        "colab": {
          "base_uri": "https://localhost:8080/",
          "height": 357
        },
        "outputId": "970f7a42-f1be-451c-ddc5-2e43c98cef31"
      },
      "source": [
        "# Code Challenge\n",
        "fileName = 'dataset_161_5.txt'\n",
        "fLines = open(fileName,'r').readlines()\n",
        "k = int(fLines[0].split()[0])\n",
        "t = int(fLines[0].split()[1])\n",
        "Dna = [l.split()[0] for l in fLines[1:]]\n",
        "\n",
        "ans = RandomizedMotifSearch(Dna,k,t)\n",
        "for a in ans:\n",
        "    print(a)"
      ],
      "execution_count": 29,
      "outputs": [
        {
          "output_type": "stream",
          "text": [
            "TTGGGATGGAGTAAG\n",
            "TGGACTAGGTATCAT\n",
            "GGGGAAAGGTATCTA\n",
            "TTTTAAAGGTATCAT\n",
            "TGGGAAAGCAGTCAT\n",
            "TGGGAAGATTATCAT\n",
            "TGGGAGTCGTATCAT\n",
            "TGGGAAAGGTTCTAT\n",
            "TGGGGCGGGTATCAT\n",
            "TGGGCGGGGTATCAT\n",
            "TGGGAAAGGATCCAT\n",
            "TGGGAAAGGTAGAGT\n",
            "TGCATAAGGTATCAT\n",
            "TGGGATTTGTATCAT\n",
            "TGGGAAAGGTATGTG\n",
            "GCAGAAAGGTATCAT\n",
            "TGGTGCAGGTATCAT\n",
            "TGGGAACCATATCAT\n",
            "CCGGAAAGGTATCAC\n",
            "TGGGAAATTAATCAT\n"
          ],
          "name": "stdout"
        }
      ]
    },
    {
      "cell_type": "markdown",
      "metadata": {
        "id": "pdX6Apooyux_",
        "colab_type": "text"
      },
      "source": [
        "Compute the probability that ten randomly selected 15-mers from the ten 600-nucleotide long strings in the Subtle Motif Problem capture at least one implanted 15-mer. (Allowable error: 0.000001)"
      ]
    },
    {
      "cell_type": "code",
      "metadata": {
        "id": "eFrnofanw14z",
        "colab_type": "code",
        "colab": {
          "base_uri": "https://localhost:8080/",
          "height": 34
        },
        "outputId": "68a93bcb-983e-4158-c62f-4be69db00c41"
      },
      "source": [
        "p1 = 1-((600-15)/(600-15+1))**10\n",
        "print(p1)\n"
      ],
      "execution_count": 38,
      "outputs": [
        {
          "output_type": "stream",
          "text": [
            "0.01693439692911025\n"
          ],
          "name": "stdout"
        }
      ]
    },
    {
      "cell_type": "markdown",
      "metadata": {
        "id": "fe2IVHk61zqN",
        "colab_type": "text"
      },
      "source": [
        "Compute the probability that ten randomly selected 15-mers from ten 600-nucleotide long strings (as in the Subtle Motif Problem) capture at least two implanted 15-mers. (Allowable error: 0.000001)"
      ]
    },
    {
      "cell_type": "code",
      "metadata": {
        "id": "scUTeBevzRFd",
        "colab_type": "code",
        "colab": {
          "base_uri": "https://localhost:8080/",
          "height": 34
        },
        "outputId": "f640a888-3b06-480d-e163-f0e2c8ca4b7c"
      },
      "source": [
        "p2 = p1- (1/(600-15+1)*((600-15)/(600-15+1))**9)*10\n",
        "print(p2)"
      ],
      "execution_count": 45,
      "outputs": [
        {
          "output_type": "stream",
          "text": [
            "0.0001298567056762373\n"
          ],
          "name": "stdout"
        }
      ]
    },
    {
      "cell_type": "code",
      "metadata": {
        "id": "IKSl53iY2BHu",
        "colab_type": "code",
        "colab": {
          "base_uri": "https://localhost:8080/",
          "height": 34
        },
        "outputId": "47e2d191-19df-41d7-906c-908fa02cc9d9"
      },
      "source": [
        "(600-15)/(600-15+1)**9"
      ],
      "execution_count": 43,
      "outputs": [
        {
          "output_type": "execute_result",
          "data": {
            "text/plain": [
              "7.179220989586434e-23"
            ]
          },
          "metadata": {
            "tags": []
          },
          "execution_count": 43
        }
      ]
    },
    {
      "cell_type": "markdown",
      "metadata": {
        "id": "0LKmi18C5Nd9",
        "colab_type": "text"
      },
      "source": [
        "Gibbs Sampler"
      ]
    },
    {
      "cell_type": "code",
      "metadata": {
        "id": "wzhfDEND5PG3",
        "colab_type": "code",
        "colab": {}
      },
      "source": [
        "from numpy.random import choice\n",
        "# import numpy\n",
        "\n",
        "def GibbsSampler(Dna, k, t, N):\n",
        "    BM = None\n",
        "    BM_scr = k*t\n",
        "    for run in range(50):\n",
        "        BestMotifs, SCR = GibbsSamplerOnce(Dna, k, t, N)\n",
        "        if SCR<BM_scr:\n",
        "          BM_scr = SCR \n",
        "          BM = BestMotifs\n",
        "    return BM\n",
        "\n",
        "\n",
        "def GibbsSamplerOnce(Dna, k, t, N):\n",
        "    Motifs = list()\n",
        "    for string in Dna:\n",
        "        rdmIdx = randrange(len(string)-k+1)\n",
        "        Motifs.append(string[rdmIdx:(rdmIdx+k)])\n",
        "    BestMotifs = Motifs.copy()\n",
        "    for iter in range(N):\n",
        "        i = randrange(t)\n",
        "        SelectedMotifs = [mtf for im,mtf in enumerate(Motifs) if im!=i]\n",
        "        Prof = PseudoProfile(SelectedMotifs)\n",
        "        # MotifiProb = ProfileMostProbableKmer(Dna[i], k, Prof)\n",
        "        Motifi = ProfileRanGenKmer(Dna[i], k, Prof)\n",
        "        Motifs[i] = Motifi\n",
        "        if Score(Motifs) < Score(BestMotifs):\n",
        "            BestMotifs = Motifs\n",
        "    return BestMotifs, Score(BestMotifs)\n",
        "\n",
        "\n",
        "def ProfileRanGenKmer(text, k, profile):\n",
        "    nucs = ['A','C','G','T']\n",
        "    profile = [profile[a] for a in nucs]\n",
        "    \n",
        "    nuc2num = {k:v for v,k in enumerate(nucs)}\n",
        "    probs = list()\n",
        "    kmers = list()\n",
        "\n",
        "    for i in range(len(text)-k+1):\n",
        "        kmer = text[i:(i+k)]\n",
        "        prob = 1\n",
        "        for j in range(k):\n",
        "            prob *= profile[nuc2num[kmer[j]]][j]\n",
        "        probs.append(prob)\n",
        "        kmers.append(kmer)\n",
        "   \n",
        "    sumProb = sum(probs)\n",
        "    rdmIdx = choice(range(len(kmers)), p=[p/sumProb for p in probs])\n",
        "    return kmers[rdmIdx]\n",
        " "
      ],
      "execution_count": 67,
      "outputs": []
    },
    {
      "cell_type": "code",
      "metadata": {
        "id": "NqBpc-rXAAqB",
        "colab_type": "code",
        "colab": {}
      },
      "source": [
        "# read from input(), taken from discussions\n",
        "if __name__ == \"__main__\":\n",
        "    k,t = [int(a) for a in input().strip().split(\" \")]\n",
        "    Dna = []\n",
        "    for _ in range(t):\n",
        "        Dna.append(input())\n",
        "       \n",
        "    ans = GibbsSampler(Dna,k,t)\n",
        "    for a in ans:\n",
        "        print(a)"
      ],
      "execution_count": null,
      "outputs": []
    },
    {
      "cell_type": "code",
      "metadata": {
        "id": "YKUTj9h5_Xue",
        "colab_type": "code",
        "colab": {
          "base_uri": "https://localhost:8080/",
          "height": 34
        },
        "outputId": "a5d4054c-9515-4e81-9cdb-4f567237957c"
      },
      "source": [
        "k,t,N = 8, 5, 100\n",
        "Dna = ['CGCCCCTCTCGGGGGTGTTCAGTAAACGGCCA','GGGCGAGGTATGTGTAAGTGCCAAGGTGCCAG',\n",
        "       'TAGTACCGAGACCGAAAGAAGTATACAGGCGT','TAGATCAAGTTTCAGGTGCACGTCGGTGAACC',\n",
        "       'AATCCACCAGCTCCACGTGCAATGTTGGCCTA']\n",
        "\n",
        "GibbsSampler(Dna, k, t, N)"
      ],
      "execution_count": 59,
      "outputs": [
        {
          "output_type": "execute_result",
          "data": {
            "text/plain": [
              "['AACGGCCA', 'AAGTGCCA', 'TAGTACCG', 'AAGTTTCA', 'ACGTGCAA']"
            ]
          },
          "metadata": {
            "tags": []
          },
          "execution_count": 59
        }
      ]
    },
    {
      "cell_type": "markdown",
      "metadata": {
        "id": "JvDHt38mBNYO",
        "colab_type": "text"
      },
      "source": [
        "This does not pass the online test, but in discussions it seems that everyone is having this trouble."
      ]
    },
    {
      "cell_type": "code",
      "metadata": {
        "id": "o36HJYYw2ai7",
        "colab_type": "code",
        "colab": {
          "base_uri": "https://localhost:8080/",
          "height": 357
        },
        "outputId": "15428d33-d08d-4a73-daad-af03a228c564"
      },
      "source": [
        "# Code Challenge\n",
        "fileName = 'dataset_163_4 (3).txt'\n",
        "fLines = open(fileName,'r').readlines()\n",
        "k = int(fLines[0].split()[0])\n",
        "t = int(fLines[0].split()[1])\n",
        "N = int(fLines[0].split()[2])\n",
        "Dna = [l.split()[0] for l in fLines[1:]]\n",
        "\n",
        "ans = GibbsSampler(Dna,k,t,N)\n",
        "for a in ans:\n",
        "    print(a)\n"
      ],
      "execution_count": 69,
      "outputs": [
        {
          "output_type": "stream",
          "text": [
            "TCCATGTCCCATCCT\n",
            "TCCATGTCCCATCCT\n",
            "TCCACTTGTACTCCT\n",
            "TCGGTTTGCCATCCT\n",
            "TCCACTTGCCATTGC\n",
            "TCCAAAAGCCATCCT\n",
            "TGGCCTTGCCATCCT\n",
            "TCCACCCCCCATCCT\n",
            "TCCATCAGCCATCCT\n",
            "TCCACTCCACATCCT\n",
            "TCCACTTGCCAGGAT\n",
            "TCCACAACCCATCCT\n",
            "TCCACTTGCATGCCT\n",
            "TCCACTTCGAATCCT\n",
            "TCCACTTGCCCAACT\n",
            "TCCACTAAGCATCCT\n",
            "AGAACTTGCCATCCT\n",
            "CGCACTTGCCATCCC\n",
            "CCCACTTGCCATCTA\n",
            "TCCGTATGCCATCCT\n"
          ],
          "name": "stdout"
        }
      ]
    },
    {
      "cell_type": "code",
      "metadata": {
        "id": "O_O8x25JDJZd",
        "colab_type": "code",
        "colab": {}
      },
      "source": [
        ""
      ],
      "execution_count": null,
      "outputs": []
    }
  ]
}